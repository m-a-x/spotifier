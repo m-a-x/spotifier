{
 "cells": [
  {
   "cell_type": "code",
   "execution_count": 257,
   "metadata": {
    "ExecuteTime": {
     "end_time": "2018-07-29T03:46:48.713274Z",
     "start_time": "2018-07-29T03:46:48.708263Z"
    }
   },
   "outputs": [],
   "source": [
    "from selenium import webdriver\n",
    "from selenium.common.exceptions import ElementNotVisibleException\n",
    "from selenium.webdriver.common.action_chains import ActionChains\n",
    "from selenium.webdriver.common.keys import Keys\n",
    "from bs4 import BeautifulSoup as bs\n",
    "import time\n",
    "import re\n",
    "from datetime import datetime as dt\n",
    "from dateutil.relativedelta import relativedelta as time_ago\n",
    "from dateutil.parser import parser\n",
    "import pandas as pd\n",
    "import numpy as np\n",
    "import requests\n",
    "import string\n",
    "import random\n",
    "import os"
   ]
  },
  {
   "cell_type": "code",
   "execution_count": 255,
   "metadata": {
    "ExecuteTime": {
     "end_time": "2018-07-29T03:46:27.013183Z",
     "start_time": "2018-07-29T03:46:27.005204Z"
    }
   },
   "outputs": [],
   "source": [
    "class PlayMusicScraper():\n",
    "    def __init__(self, path_to_chromedriver=None):\n",
    "        if not path_to_chromedriver:\n",
    "            path_to_chromedriver = os.path.abspath('chromedriver')\n",
    "        self.browser = webdriver.Chrome(path_to_chromedriver)\n",
    "        self.playlist_data = []\n",
    "        self.playlist_df = None\n",
    "        self.browser.get('https://play.google.com/music')\n",
    "\n",
    "    def go_to_playlist_page(self, playlist_page_url='https://play.google.com/music/listen#/wmp'):\n",
    "        self.browser.get(playlist_page_url)\n",
    "    \n",
    "    def scrape_next_playlist(self, playlist_idx):\n",
    "        playlist_box = self.browser.find_element_by_class_name('material-card-grid')\n",
    "        playlist = playlist_box.find_elements_by_class_name('material-card')[playlist_idx]\n",
    "        playlist_name = playlist.text.split('\\n')[0]\n",
    "        print('---> Scraping (#%s) \"%s\"' % (playlist_idx + 1, playlist_name))\n",
    "        playlist.click()\n",
    "        time.sleep(1)\n",
    "        songs = self.browser.find_elements_by_class_name('song-row')\n",
    "        for song in songs:\n",
    "            song_data = song.text.split('\\n')\n",
    "            title, duration, artist, album = song_data[1:5]\n",
    "            self.playlist_data.append({\n",
    "                'title': title,\n",
    "                'duration': duration,\n",
    "                'artist': artist,\n",
    "                'album': album,\n",
    "                'playlist': playlist_name\n",
    "            })\n",
    "        self.go_to_playlist_page()\n",
    "\n",
    "    def scrape_all_playlists(self, save_successful_scrape=True):\n",
    "        self.go_to_playlist_page()\n",
    "        time.sleep(1)\n",
    "        playlist_box = self.browser.find_element_by_class_name('material-card-grid')\n",
    "        num_playlists = len(playlist_box.find_elements_by_class_name('material-card'))\n",
    "        print('Found %s playlists to scrape...' % num_playlists)\n",
    "        for playlist_idx in range(num_playlists):\n",
    "            self.scrape_next_playlist(playlist_idx)\n",
    "            time.sleep(1)\n",
    "        self.playlist_df = pd.DataFrame(self.playlist_data)\n",
    "        if save_successful_scrape:\n",
    "            self.playlist_df.to_csv('google-playlists.csv', index=False)"
   ]
  },
  {
   "cell_type": "code",
   "execution_count": 262,
   "metadata": {
    "ExecuteTime": {
     "end_time": "2018-07-29T03:52:35.672962Z",
     "start_time": "2018-07-29T03:52:35.659943Z"
    }
   },
   "outputs": [],
   "source": [
    "class SpotifyController():\n",
    "    def __init__(self, path_to_chromedriver=None):\n",
    "        if not path_to_chromedriver:\n",
    "            path_to_chromedriver = os.path.abspath('chromedriver')\n",
    "        self.browser = webdriver.Chrome(path_to_chromedriver)\n",
    "        self.playlist_df = pd.read_csv('google-playlists.csv', encoding=\"ISO-8859-1\")\n",
    "        self.browser.get('https://open.spotify.com/collection/playlists')\n",
    "\n",
    "    def go_to_playlist_page(self, playlist_page_url='https://open.spotify.com/collection/playlists'):\n",
    "        self.browser.get(playlist_page_url)\n",
    "        \n",
    "    def create_new_playlist(self, playlist_name):\n",
    "        new_playlist_button = self.browser.find_element_by_xpath('//*[@id=\"main\"]/div/div[4]/div[2]/div[1]/section/div[1]/div/div')\n",
    "        new_playlist_button.click()\n",
    "        time.sleep(2)\n",
    "        name_input = self.browser.find_element_by_class_name(\"inputBox-input\")\n",
    "        name_input.click()\n",
    "        name_input.send_keys(playlist_name)\n",
    "        name_input.send_keys(Keys.ENTER)\n",
    "        time.sleep(2)\n",
    "        self.go_to_playlist_page()\n",
    "        time.sleep(2)\n",
    "    \n",
    "    def create_all_new_playlists(self):\n",
    "        self.go_to_playlist_page()\n",
    "        time.sleep(3)\n",
    "        playlists_to_create = self.playlist_df.playlist.unique()\n",
    "        for playlist_name in playlists_to_create:\n",
    "            self.create_new_playlist(playlist_name)\n",
    "    \n",
    "    def search_song(self, title, artist, album, duration):\n",
    "        search_string = ' '.join([title, artist.replace('&', ''), album])\n",
    "        search_button = self.browser.find_element_by_xpath('//*[@id=\"main\"]/div/div[4]/div[1]/nav/div[1]/ul/li[1]/div/a')\n",
    "        search_button.click()\n",
    "        search_box = self.browser.find_element_by_class_name('inputBox-input')\n",
    "        search_box.send_keys(search_string)\n",
    "        time.sleep(2)\n",
    "        try:\n",
    "            tracks_button = self.browser.find_element_by_xpath('//*[@id=\"main\"]/div/div[4]/div[2]/div[1]/section/nav/ul/li[2]/div/a')\n",
    "            tracks_button.click()\n",
    "            time.sleep(2)\n",
    "            results = self.browser.find_elements_by_class_name('tracklist-row')\n",
    "            for track in results:\n",
    "                evidence = 0\n",
    "                track_string = track.text.split('\\n')\n",
    "                result_title, result_duration = track_string[0].strip(), track_string[2].strip()\n",
    "                result_artist, result_album = [text.strip() for text in track_string[1].split('•')]\n",
    "                if title.lower() == result_title.lower():\n",
    "                    evidence += 1\n",
    "                if duration == result_duration:\n",
    "                    evidence += 1\n",
    "                if album.lower() == result_album.lower():\n",
    "                    evidence += 1\n",
    "                if evidence > 1:\n",
    "                    return track\n",
    "        except:\n",
    "            print('Could not find \"%s\"' % title)\n",
    "            return None\n",
    "\n",
    "    def add_song(self, track, playlist_name):\n",
    "        track_html = track.find_element_by_class_name('track-name-wrapper')\n",
    "        while True:\n",
    "            try:\n",
    "                mouse_hover = ActionChains(self.browser).move_to_element(track_html)\n",
    "                mouse_hover.perform()\n",
    "                time.sleep(2)\n",
    "                track_options = track.find_element_by_class_name('spoticon-ellipsis-16')\n",
    "                track_options.click()\n",
    "                time.sleep(1)\n",
    "                add_to_playlist_button = self.browser.find_element_by_xpath('//*[@id=\"main\"]/div/nav[1]/div[4]')\n",
    "                add_to_playlist_button.click()\n",
    "                break\n",
    "            except:\n",
    "                pass\n",
    "        playlist_box = self.browser.find_element_by_xpath('//*[@id=\"main\"]/div/div[6]/div/div/div/div[2]/div')\n",
    "        playlists = playlist_box.find_elements_by_class_name('GlueDropTarget')\n",
    "        for spotify_playlist in playlists:\n",
    "            spotify_playlist_name = spotify_playlist.text.split('\\n')[1]\n",
    "            if spotify_playlist_name == playlist_name:\n",
    "                spotify_playlist.click()\n",
    "                break\n",
    "        time.sleep(1)\n",
    "        self.go_to_playlist_page()\n",
    "        time.sleep(1)\n",
    "    \n",
    "    def populate_playlist(self, single_playlist_df, playlist_name):\n",
    "        for title, artist, album, duration in single_playlist_df[['title', 'artist', 'album', 'duration']].values:\n",
    "            correct_track = self.search_song(title, artist, album, duration)\n",
    "            if not correct_track:\n",
    "                print(title, 'didnt work')\n",
    "                continue\n",
    "            self.add_song(correct_track, playlist_name)\n",
    "            print('---> Successfully added: %s' % title)\n",
    "    def populate_all_playlists(self):\n",
    "        self.go_to_playlist_page()\n",
    "        grouped_playlists = self.playlist_df.groupby('playlist')\n",
    "        for playlist_name, playlist_df in grouped_playlists:\n",
    "            self.populate_playlist(playlist_df, playlist_name)\n",
    "            print('Successfully created %s' % playlist_name)"
   ]
  },
  {
   "cell_type": "markdown",
   "metadata": {},
   "source": [
    "## 1. Run below cell"
   ]
  },
  {
   "cell_type": "code",
   "execution_count": 259,
   "metadata": {
    "ExecuteTime": {
     "end_time": "2018-07-29T03:47:48.899703Z",
     "start_time": "2018-07-29T03:47:45.404485Z"
    }
   },
   "outputs": [],
   "source": [
    "pms = PlayMusicScraper()"
   ]
  },
  {
   "cell_type": "markdown",
   "metadata": {},
   "source": [
    "## 2. Log in to Google Play Music\n",
    "## 3. Run cell below"
   ]
  },
  {
   "cell_type": "code",
   "execution_count": 261,
   "metadata": {
    "ExecuteTime": {
     "end_time": "2018-07-29T03:52:09.846741Z",
     "start_time": "2018-07-29T03:51:01.891394Z"
    }
   },
   "outputs": [
    {
     "name": "stdout",
     "output_type": "stream",
     "text": [
      "Found 24 playlists to scrape...\n",
      "---> Scraping (#1) \"*whimpers softly into pillow*\"\n",
      "---> Scraping (#2) \"B\"\n",
      "---> Scraping (#3) \"Blz\"\n",
      "---> Scraping (#4) \"Buyk\"\n",
      "---> Scraping (#5) \"chel illectronic\"\n",
      "---> Scraping (#6) \"CPT\"\n",
      "---> Scraping (#7) \"darty\"\n",
      "---> Scraping (#8) \"downbeet\"\n",
      "---> Scraping (#9) \"EarE\"\n",
      "---> Scraping (#10) \"flI\"\n",
      "---> Scraping (#11) \"haters gon hate\"\n",
      "---> Scraping (#12) \"haus step\"\n",
      "---> Scraping (#13) \"heaux'd up\"\n",
      "---> Scraping (#14) \"I'm an 11 year old girl\"\n",
      "---> Scraping (#15) \"lectro hop\"\n",
      "---> Scraping (#16) \"metal jåms\"\n",
      "---> Scraping (#17) \"parT\"\n",
      "---> Scraping (#18) \"partayyyyy\"\n",
      "---> Scraping (#19) \"rap hop and b\"\n",
      "---> Scraping (#20) \"rdo\"\n",
      "---> Scraping (#21) \"sk7\"\n",
      "---> Scraping (#22) \"TRAPT\"\n",
      "---> Scraping (#23) \"upbeet\"\n",
      "---> Scraping (#24) \"ye olde jáms\"\n"
     ]
    }
   ],
   "source": [
    "pms.scrape_all_playlists()"
   ]
  },
  {
   "cell_type": "markdown",
   "metadata": {},
   "source": [
    "## 4. Run cell below"
   ]
  },
  {
   "cell_type": "code",
   "execution_count": 263,
   "metadata": {
    "ExecuteTime": {
     "end_time": "2018-07-29T03:52:51.458201Z",
     "start_time": "2018-07-29T03:52:46.411182Z"
    }
   },
   "outputs": [],
   "source": [
    "sc = SpotifyController()"
   ]
  },
  {
   "cell_type": "markdown",
   "metadata": {},
   "source": [
    "## 5. Log in to Spotify"
   ]
  },
  {
   "cell_type": "code",
   "execution_count": 117,
   "metadata": {
    "ExecuteTime": {
     "end_time": "2018-07-29T01:27:22.969242Z",
     "start_time": "2018-07-29T01:25:51.663355Z"
    }
   },
   "outputs": [],
   "source": [
    "sc.create_all_new_playlists()"
   ]
  },
  {
   "cell_type": "code",
   "execution_count": null,
   "metadata": {
    "ExecuteTime": {
     "start_time": "2018-07-29T03:53:34.411Z"
    }
   },
   "outputs": [
    {
     "name": "stdout",
     "output_type": "stream",
     "text": [
      "---> Successfully added: Open Arms\n",
      "---> Successfully added: Do You Go Up (Original Mix)\n",
      "---> Successfully added: Gita\n",
      "---> Successfully added: Surrender\n",
      "---> Successfully added: Watch My Back\n",
      "---> Successfully added: Take (Original Mix)\n",
      "Successfully created *whimpers softly into pillow*\n",
      "---> Successfully added: Lorde 2Pac Beck Mashup\n",
      "---> Successfully added: ICY GRL\n",
      "---> Successfully added: Never Gonna Give You Up\n",
      "---> Successfully added: OKRA\n",
      "---> Successfully added: Angggry Byrdz\n",
      "---> Successfully added: Werkin' Girls\n",
      "---> Successfully added: Come On! Come On!\n",
      "---> Successfully added: Heregoesnothin\n"
     ]
    }
   ],
   "source": [
    "sc.populate_all_playlists()"
   ]
  }
 ],
 "metadata": {
  "kernelspec": {
   "display_name": "Python 3",
   "language": "python",
   "name": "python3"
  },
  "language_info": {
   "codemirror_mode": {
    "name": "ipython",
    "version": 3
   },
   "file_extension": ".py",
   "mimetype": "text/x-python",
   "name": "python",
   "nbconvert_exporter": "python",
   "pygments_lexer": "ipython3",
   "version": "3.6.4"
  }
 },
 "nbformat": 4,
 "nbformat_minor": 2
}
